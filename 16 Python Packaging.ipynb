{
 "cells": [
  {
   "cell_type": "markdown",
   "metadata": {},
   "source": [
    "# Let's create a simple package called __`sf_pkg_<user>`__\n",
    "* (where __`<user>`__ is your username to make it a unique package name)\n",
    "* create this dir structure:\n",
    "<pre><b>\n",
    "    sf_pkg_&lt;user>\n",
    "     /sf_pkg_&lt;user>\n",
    "       __init__.py\n",
    "</b></pre>"
   ]
  },
  {
   "cell_type": "code",
   "execution_count": 38,
   "metadata": {},
   "outputs": [
    {
     "data": {
      "text/plain": [
       "'sf_pkg_dws'"
      ]
     },
     "execution_count": 38,
     "metadata": {},
     "output_type": "execute_result"
    }
   ],
   "source": [
    "import os\n",
    "user = os.getlogin()\n",
    "pkg = 'sf_pkg_' + user"
   ]
  },
  {
   "cell_type": "code",
   "execution_count": 1,
   "metadata": {},
   "outputs": [],
   "source": [
    "%%bash\n",
    "pkg='sf_pkg_'$LOGNAME\n",
    "mkdir -p $pkg/$pkg\n",
    "touch $pkg/$pkg/__init__.py"
   ]
  },
  {
   "cell_type": "markdown",
   "metadata": {},
   "source": [
    "## We'll add the package name to \\_\\___`init`__\\_\\___`.py`__ just so we can verify it installed correctly (\\_\\___`init`__\\_\\___`.py`__ has to exist but is often empty)"
   ]
  },
  {
   "cell_type": "code",
   "execution_count": 2,
   "metadata": {},
   "outputs": [],
   "source": [
    "%%bash\n",
    "pkg='sf_pkg_'$LOGNAME\n",
    "echo \"name = '$pkg'\" > $pkg/$pkg/__init__.py"
   ]
  },
  {
   "cell_type": "code",
   "execution_count": 3,
   "metadata": {},
   "outputs": [
    {
     "name": "stdout",
     "output_type": "stream",
     "text": [
      "name = 'sf_pkg_dws'\r\n"
     ]
    }
   ],
   "source": [
    "!cat sf_pkg_dws/sf_pkg_dws/__init__.py"
   ]
  },
  {
   "cell_type": "markdown",
   "metadata": {},
   "source": [
    "## We'll also want these file in the top level of our folder:\n",
    "* __`setup.py`__\n",
    "* __`LICENSE`__\n",
    "* __`README.md`__"
   ]
  },
  {
   "cell_type": "markdown",
   "metadata": {},
   "source": [
    "## __`setup.py`__\n",
    "* this is the build script for setuptools\n",
    "* tells setuptools about your package (e.g., name and version) as well as which code files to include"
   ]
  },
  {
   "cell_type": "code",
   "execution_count": 15,
   "metadata": {},
   "outputs": [],
   "source": [
    "%%bash\n",
    "pkg='sf_pkg_'$LOGNAME\n",
    "cat > $pkg/setup.py <<_\n",
    "import setuptools\n",
    "\n",
    "with open(\"README.md\", \"r\") as fh:\n",
    "    long_description = fh.read()\n",
    "\n",
    "setuptools.setup(\n",
    "    name=\"$pkg\",\n",
    "    version=\"0.0.5\",\n",
    "    author=\"Your Name Here\",\n",
    "    author_email=\"youremail@salesforce.com\",\n",
    "    description=\"A small example package\",\n",
    "    long_description=long_description,\n",
    "    long_description_content_type=\"text/markdown\",\n",
    "    url=\"https://github.com/dws/sampleproject\",\n",
    "    packages=setuptools.find_packages(),\n",
    "    classifiers=[\n",
    "        \"Programming Language :: Python :: 3\",\n",
    "        \"License :: OSI Approved :: MIT License\",\n",
    "        \"Operating System :: OS Independent\",\n",
    "    ],\n",
    ")\n",
    "_"
   ]
  },
  {
   "cell_type": "code",
   "execution_count": 16,
   "metadata": {},
   "outputs": [
    {
     "name": "stdout",
     "output_type": "stream",
     "text": [
      "import setuptools\r\n",
      "\r\n",
      "with open(\"README.md\", \"r\") as fh:\r\n",
      "    long_description = fh.read()\r\n",
      "\r\n",
      "setuptools.setup(\r\n",
      "    name=\"sf_pkg_dws\",\r\n",
      "    version=\"0.0.5\",\r\n",
      "    author=\"Your Name Here\",\r\n",
      "    author_email=\"youremail@salesforce.com\",\r\n",
      "    description=\"A small example package\",\r\n",
      "    long_description=long_description,\r\n",
      "    long_description_content_type=\"text/markdown\",\r\n",
      "    url=\"https://github.com/dws/sampleproject\",\r\n",
      "    packages=setuptools.find_packages(),\r\n",
      "    classifiers=[\r\n",
      "        \"Programming Language :: Python :: 3\",\r\n",
      "        \"License :: OSI Approved :: MIT License\",\r\n",
      "        \"Operating System :: OS Independent\",\r\n",
      "    ],\r\n",
      ")\r\n"
     ]
    }
   ],
   "source": [
    "cat sf_pkg_dws/setup.py"
   ]
  },
  {
   "cell_type": "markdown",
   "metadata": {},
   "source": [
    "## __`setup()`__\n",
    "* name = name of your package (contains letters, numbers, _ , and -, and must be unique on pypi.org)\n",
    "* version = package version (see, e.g., PEP 440)\n",
    "* author and author_email\n",
    "* description = short, one-sentence summary of the package\n",
    "* long_description = detailed description of the package (in this case, the long description is loaded from README.md which is a common pattern)\n",
    "* long_description_content_type = type of markup\n",
    "* url is the URL for the homepage of the project (e.g., GitHub, GitLab, Bitbucket, or similar code hosting service)\n",
    "* packages = list of all Python import packages that should be included in the distribution package–instead of listing each package __`find_packages()`__ will automatically discover all packages and subpackages\n",
    "* classifiers tell the index and pip some additional metadata about your package\n",
    " * In this case, the package is only compatible with Python 3, is licensed under the MIT license, and is OS-independent\n",
    " * always include\n",
    "  * which version(s) of Python your package works on\n",
    "  * which license your package is available under\n",
    "  * which operating systems your package will work on\n",
    "  * see https://pypi.org/classifiers/"
   ]
  },
  {
   "cell_type": "code",
   "execution_count": 17,
   "metadata": {},
   "outputs": [],
   "source": [
    "%%bash\n",
    "pkg='sf_pkg_'$LOGNAME\n",
    "cat > $pkg/README.md <<_\n",
    "# Example Package\n",
    "\n",
    "This is a simple example package. You can use\n",
    "[Github-flavored Markdown](https://guides.github.com/features/mastering-markdown/)\n",
    "to write your content.\n",
    "_"
   ]
  },
  {
   "cell_type": "code",
   "execution_count": 18,
   "metadata": {},
   "outputs": [],
   "source": [
    "%%bash\n",
    "pkg='sf_pkg_'$LOGNAME\n",
    "cat > $pkg/LICENSE <<_\n",
    "Copyright (c) 2018 The Python Packaging Authority\n",
    "\n",
    "Permission is hereby granted, free of charge, to any person obtaining a copy\n",
    "of this software and associated documentation files (the \"Software\"), to deal\n",
    "in the Software without restriction, including without limitation the rights\n",
    "to use, copy, modify, merge, publish, distribute, sublicense, and/or sell\n",
    "copies of the Software, and to permit persons to whom the Software is\n",
    "furnished to do so, subject to the following conditions:\n",
    "\n",
    "The above copyright notice and this permission notice shall be included in all\n",
    "copies or substantial portions of the Software.\n",
    "\n",
    "THE SOFTWARE IS PROVIDED \"AS IS\", WITHOUT WARRANTY OF ANY KIND, EXPRESS OR\n",
    "IMPLIED, INCLUDING BUT NOT LIMITED TO THE WARRANTIES OF MERCHANTABILITY,\n",
    "FITNESS FOR A PARTICULAR PURPOSE AND NONINFRINGEMENT. IN NO EVENT SHALL THE\n",
    "AUTHORS OR COPYRIGHT HOLDERS BE LIABLE FOR ANY CLAIM, DAMAGES OR OTHER\n",
    "LIABILITY, WHETHER IN AN ACTION OF CONTRACT, TORT OR OTHERWISE, ARISING FROM,\n",
    "OUT OF OR IN CONNECTION WITH THE SOFTWARE OR THE USE OR OTHER DEALINGS IN THE\n",
    "SOFTWARE.\n",
    "_"
   ]
  },
  {
   "cell_type": "markdown",
   "metadata": {},
   "source": [
    "# Our directory structure should now look like this:\n",
    "<pre><b>\n",
    "    sf_pkg/\n",
    "    |---LICENSE\n",
    "    |---README.md\n",
    "    |---setup.py\n",
    "    |---sf_pkg/\n",
    "        |---__init__.py\n",
    "</b></pre>"
   ]
  },
  {
   "cell_type": "code",
   "execution_count": 10,
   "metadata": {},
   "outputs": [
    {
     "name": "stdout",
     "output_type": "stream",
     "text": [
      "sf_pkg_dws/\r\n",
      "├── LICENSE\r\n",
      "├── README.md\r\n",
      "├── setup.py\r\n",
      "└── sf_pkg_dws\r\n",
      "    └── __init__.py\r\n",
      "\r\n",
      "1 directory, 4 files\r\n"
     ]
    }
   ],
   "source": [
    "!tree sf_pkg_dws/"
   ]
  },
  {
   "cell_type": "markdown",
   "metadata": {},
   "source": [
    "## Ensure you have latest versions of setuptools and wheel"
   ]
  },
  {
   "cell_type": "code",
   "execution_count": 11,
   "metadata": {},
   "outputs": [
    {
     "name": "stdout",
     "output_type": "stream",
     "text": [
      "Collecting setuptools\n",
      "  Using cached https://files.pythonhosted.org/packages/e7/16/da8cb8046149d50940c6110310983abb359bbb8cbc3539e6bef95c29428a/setuptools-40.6.2-py2.py3-none-any.whl\n",
      "Collecting wheel\n",
      "  Using cached https://files.pythonhosted.org/packages/5a/9b/6aebe9e2636d35d1a93772fa644c828303e1d5d124e8a88f156f42ac4b87/wheel-0.32.2-py2.py3-none-any.whl\n",
      "\u001b[31msparqlwrapper 1.8.2 requires rdflib>=4.0, which is not installed.\u001b[0m\n",
      "Installing collected packages: setuptools, wheel\n",
      "  Found existing installation: setuptools 40.2.0\n",
      "    Uninstalling setuptools-40.2.0:\n",
      "      Successfully uninstalled setuptools-40.2.0\n",
      "  Found existing installation: wheel 0.31.1\n",
      "    Uninstalling wheel-0.31.1:\n",
      "      Successfully uninstalled wheel-0.31.1\n",
      "Successfully installed setuptools-40.6.2 wheel-0.32.2\n",
      "\u001b[33mYou are using pip version 10.0.1, however version 18.1 is available.\n",
      "You should consider upgrading via the 'pip install --upgrade pip' command.\u001b[0m\n"
     ]
    }
   ],
   "source": [
    "!python3 -m pip install --upgrade setuptools wheel"
   ]
  },
  {
   "cell_type": "code",
   "execution_count": 19,
   "metadata": {},
   "outputs": [
    {
     "name": "stdout",
     "output_type": "stream",
     "text": [
      "running sdist\n",
      "running egg_info\n",
      "writing sf_pkg_dws.egg-info/PKG-INFO\n",
      "writing dependency_links to sf_pkg_dws.egg-info/dependency_links.txt\n",
      "writing top-level names to sf_pkg_dws.egg-info/top_level.txt\n",
      "reading manifest file 'sf_pkg_dws.egg-info/SOURCES.txt'\n",
      "writing manifest file 'sf_pkg_dws.egg-info/SOURCES.txt'\n",
      "running check\n",
      "creating sf_pkg_dws-0.0.5\n",
      "creating sf_pkg_dws-0.0.5/sf_pkg_dws\n",
      "creating sf_pkg_dws-0.0.5/sf_pkg_dws.egg-info\n",
      "copying files to sf_pkg_dws-0.0.5...\n",
      "copying README.md -> sf_pkg_dws-0.0.5\n",
      "copying setup.py -> sf_pkg_dws-0.0.5\n",
      "copying sf_pkg_dws/__init__.py -> sf_pkg_dws-0.0.5/sf_pkg_dws\n",
      "copying sf_pkg_dws.egg-info/PKG-INFO -> sf_pkg_dws-0.0.5/sf_pkg_dws.egg-info\n",
      "copying sf_pkg_dws.egg-info/SOURCES.txt -> sf_pkg_dws-0.0.5/sf_pkg_dws.egg-info\n",
      "copying sf_pkg_dws.egg-info/dependency_links.txt -> sf_pkg_dws-0.0.5/sf_pkg_dws.egg-info\n",
      "copying sf_pkg_dws.egg-info/top_level.txt -> sf_pkg_dws-0.0.5/sf_pkg_dws.egg-info\n",
      "Writing sf_pkg_dws-0.0.5/setup.cfg\n",
      "Creating tar archive\n",
      "removing 'sf_pkg_dws-0.0.5' (and everything under it)\n",
      "running bdist_wheel\n",
      "running build\n",
      "running build_py\n",
      "installing to build/bdist.macosx-10.7-x86_64/wheel\n",
      "running install\n",
      "running install_lib\n",
      "creating build/bdist.macosx-10.7-x86_64/wheel\n",
      "creating build/bdist.macosx-10.7-x86_64/wheel/sf_pkg_dws\n",
      "copying build/lib/sf_pkg_dws/__init__.py -> build/bdist.macosx-10.7-x86_64/wheel/sf_pkg_dws\n",
      "running install_egg_info\n",
      "Copying sf_pkg_dws.egg-info to build/bdist.macosx-10.7-x86_64/wheel/sf_pkg_dws-0.0.5-py3.7.egg-info\n",
      "running install_scripts\n",
      "adding license file \"LICENSE\" (matched pattern \"LICEN[CS]E*\")\n",
      "creating build/bdist.macosx-10.7-x86_64/wheel/sf_pkg_dws-0.0.5.dist-info/WHEEL\n",
      "creating 'dist/sf_pkg_dws-0.0.5-py3-none-any.whl' and adding 'build/bdist.macosx-10.7-x86_64/wheel' to it\n",
      "adding 'sf_pkg_dws/__init__.py'\n",
      "adding 'sf_pkg_dws-0.0.5.dist-info/LICENSE'\n",
      "adding 'sf_pkg_dws-0.0.5.dist-info/METADATA'\n",
      "adding 'sf_pkg_dws-0.0.5.dist-info/WHEEL'\n",
      "adding 'sf_pkg_dws-0.0.5.dist-info/top_level.txt'\n",
      "adding 'sf_pkg_dws-0.0.5.dist-info/RECORD'\n",
      "removing build/bdist.macosx-10.7-x86_64/wheel\n"
     ]
    }
   ],
   "source": [
    "%%bash\n",
    "pkg='sf_pkg_'$LOGNAME\n",
    "cd $pkg\n",
    "python3 setup.py sdist bdist_wheel"
   ]
  },
  {
   "cell_type": "code",
   "execution_count": 20,
   "metadata": {},
   "outputs": [
    {
     "name": "stdout",
     "output_type": "stream",
     "text": [
      "sf_pkg_dws/\r\n",
      "├── LICENSE\r\n",
      "├── README.md\r\n",
      "├── build\r\n",
      "│   ├── bdist.macosx-10.7-x86_64\r\n",
      "│   └── lib\r\n",
      "│       └── sf_pkg_dws\r\n",
      "│           └── __init__.py\r\n",
      "├── dist\r\n",
      "│   ├── sf_pkg_dws-0.0.1-py3-none-any.whl\r\n",
      "│   ├── sf_pkg_dws-0.0.1.tar.gz\r\n",
      "│   ├── sf_pkg_dws-0.0.5-py3-none-any.whl\r\n",
      "│   └── sf_pkg_dws-0.0.5.tar.gz\r\n",
      "├── setup.py\r\n",
      "├── sf_pkg_dws\r\n",
      "│   └── __init__.py\r\n",
      "└── sf_pkg_dws.egg-info\r\n",
      "    ├── PKG-INFO\r\n",
      "    ├── SOURCES.txt\r\n",
      "    ├── dependency_links.txt\r\n",
      "    └── top_level.txt\r\n",
      "\r\n",
      "7 directories, 13 files\r\n"
     ]
    }
   ],
   "source": [
    "!tree sf_pkg_dws/"
   ]
  },
  {
   "cell_type": "markdown",
   "metadata": {},
   "source": [
    "## Install twine"
   ]
  },
  {
   "cell_type": "code",
   "execution_count": 14,
   "metadata": {},
   "outputs": [
    {
     "name": "stdout",
     "output_type": "stream",
     "text": [
      "Collecting twine\n",
      "  Using cached https://files.pythonhosted.org/packages/26/7f/92c7083b66bc7ed32940cc0e25ae070c033d384d158617635222e7a08e92/twine-1.12.1-py2.py3-none-any.whl\n",
      "Collecting requests-toolbelt>=0.8.0 (from twine)\n",
      "  Using cached https://files.pythonhosted.org/packages/97/8a/d710f792d6f6ecc089c5e55b66e66c3f2f35516a1ede5a8f54c13350ffb0/requests_toolbelt-0.8.0-py2.py3-none-any.whl\n",
      "Collecting readme-renderer>=21.0 (from twine)\n",
      "  Downloading https://files.pythonhosted.org/packages/c3/7e/d1aae793900f36b097cbfcc5e70eef82b5b56423a6c52a36dce51fedd8f0/readme_renderer-24.0-py2.py3-none-any.whl\n",
      "Requirement not upgraded as not directly required: requests!=2.15,!=2.16,>=2.5.0 in /Users/dws/anaconda3/lib/python3.7/site-packages (from twine) (2.19.1)\n",
      "Requirement not upgraded as not directly required: tqdm>=4.14 in /Users/dws/anaconda3/lib/python3.7/site-packages (from twine) (4.26.0)\n",
      "Requirement not upgraded as not directly required: pkginfo>=1.4.2 in /Users/dws/anaconda3/lib/python3.7/site-packages (from twine) (1.4.2)\n",
      "Requirement not upgraded as not directly required: setuptools>=0.7.0 in /Users/dws/anaconda3/lib/python3.7/site-packages (from twine) (40.6.2)\n",
      "Requirement not upgraded as not directly required: Pygments in /Users/dws/anaconda3/lib/python3.7/site-packages (from readme-renderer>=21.0->twine) (2.2.0)\n",
      "Requirement not upgraded as not directly required: six in /Users/dws/anaconda3/lib/python3.7/site-packages (from readme-renderer>=21.0->twine) (1.11.0)\n",
      "Requirement not upgraded as not directly required: docutils>=0.13.1 in /Users/dws/anaconda3/lib/python3.7/site-packages (from readme-renderer>=21.0->twine) (0.14)\n",
      "Requirement not upgraded as not directly required: bleach>=2.1.0 in /Users/dws/anaconda3/lib/python3.7/site-packages (from readme-renderer>=21.0->twine) (2.1.4)\n",
      "Requirement not upgraded as not directly required: certifi>=2017.4.17 in /Users/dws/anaconda3/lib/python3.7/site-packages (from requests!=2.15,!=2.16,>=2.5.0->twine) (2018.10.15)\n",
      "Requirement not upgraded as not directly required: urllib3<1.24,>=1.21.1 in /Users/dws/anaconda3/lib/python3.7/site-packages (from requests!=2.15,!=2.16,>=2.5.0->twine) (1.23)\n",
      "Requirement not upgraded as not directly required: chardet<3.1.0,>=3.0.2 in /Users/dws/anaconda3/lib/python3.7/site-packages (from requests!=2.15,!=2.16,>=2.5.0->twine) (3.0.4)\n",
      "Requirement not upgraded as not directly required: idna<2.8,>=2.5 in /Users/dws/anaconda3/lib/python3.7/site-packages (from requests!=2.15,!=2.16,>=2.5.0->twine) (2.7)\n",
      "Requirement not upgraded as not directly required: html5lib!=1.0b1,!=1.0b2,!=1.0b3,!=1.0b4,!=1.0b5,!=1.0b6,!=1.0b7,!=1.0b8,>=0.99999999pre in /Users/dws/anaconda3/lib/python3.7/site-packages (from bleach>=2.1.0->readme-renderer>=21.0->twine) (1.0.1)\n",
      "Requirement not upgraded as not directly required: webencodings in /Users/dws/anaconda3/lib/python3.7/site-packages (from html5lib!=1.0b1,!=1.0b2,!=1.0b3,!=1.0b4,!=1.0b5,!=1.0b6,!=1.0b7,!=1.0b8,>=0.99999999pre->bleach>=2.1.0->readme-renderer>=21.0->twine) (0.5.1)\n",
      "\u001b[31msparqlwrapper 1.8.2 requires rdflib>=4.0, which is not installed.\u001b[0m\n",
      "Installing collected packages: requests-toolbelt, readme-renderer, twine\n",
      "Successfully installed readme-renderer-24.0 requests-toolbelt-0.8.0 twine-1.12.1\n",
      "\u001b[33mYou are using pip version 10.0.1, however version 18.1 is available.\n",
      "You should consider upgrading via the 'pip install --upgrade pip' command.\u001b[0m\n"
     ]
    }
   ],
   "source": [
    "!python3 -m pip install --upgrade twine"
   ]
  },
  {
   "cell_type": "markdown",
   "metadata": {},
   "source": [
    "## Upload to Test PyPI"
   ]
  },
  {
   "cell_type": "code",
   "execution_count": null,
   "metadata": {},
   "outputs": [
    {
     "name": "stdout",
     "output_type": "stream",
     "text": [
      "Enter your username: "
     ]
    }
   ],
   "source": [
    "# requires credentials, so run in shell outside Jupyter\n",
    "!twine upload --repository-url https://test.pypi.org/legacy/ dist/*"
   ]
  },
  {
   "cell_type": "markdown",
   "metadata": {},
   "source": [
    "## Make a virtualenv and install"
   ]
  },
  {
   "cell_type": "code",
   "execution_count": 52,
   "metadata": {},
   "outputs": [
    {
     "name": "stdout",
     "output_type": "stream",
     "text": [
      "New python executable in /Users/dws/DI/Python-Intermediate/Intermediate-Python/tester/bin/python\n",
      "Installing setuptools, pip, wheel...done.\n",
      "Collecting sf_pkg_dws\n",
      "  Could not fetch URL https://test.pypi.org/simple/sf-pkg-dws/: There was a problem confirming the ssl certificate: [SSL: TLSV1_ALERT_PROTOCOL_VERSION] tlsv1 alert protocol version (_ssl.c:590) - skipping\n"
     ]
    },
    {
     "name": "stderr",
     "output_type": "stream",
     "text": [
      "  Could not find a version that satisfies the requirement sf_pkg_dws (from versions: )\n",
      "No matching distribution found for sf_pkg_dws\n"
     ]
    }
   ],
   "source": [
    "%%bash\n",
    "pkg='sf_pkg_'$LOGNAME\n",
    "virtualenv tester\n",
    "source tester/bin/activate\n",
    "python -m pip install --index-url https://test.pypi.org/simple/ $pkg"
   ]
  },
  {
   "cell_type": "code",
   "execution_count": null,
   "metadata": {},
   "outputs": [],
   "source": []
  }
 ],
 "metadata": {
  "kernelspec": {
   "display_name": "Python 3 (ipykernel)",
   "language": "python",
   "name": "python3"
  },
  "language_info": {
   "codemirror_mode": {
    "name": "ipython",
    "version": 3
   },
   "file_extension": ".py",
   "mimetype": "text/x-python",
   "name": "python",
   "nbconvert_exporter": "python",
   "pygments_lexer": "ipython3",
   "version": "3.9.6"
  }
 },
 "nbformat": 4,
 "nbformat_minor": 2
}
