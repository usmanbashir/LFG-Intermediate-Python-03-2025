{
 "cells": [
  {
   "cell_type": "markdown",
   "metadata": {
    "slideshow": {
     "slide_type": "slide"
    }
   },
   "source": [
    "# The __`collections`__ module\n",
    "* the __`collections`__ module contains a bunch of useful types which are derived from (read: inherited from) some of the built-in types we're already familiar with"
   ]
  },
  {
   "cell_type": "markdown",
   "metadata": {
    "slideshow": {
     "slide_type": "subslide"
    }
   },
   "source": [
    "## Ordered Dictionaries\n",
    "* since Python 3.6 all dictionaries are ordered which retain their insertion order, i.e., the order in which you insert the items is in the order in which you iterate through them.\n",
    "* because of which `from collections import OrderedDict` is no longer used as much unless you need some of the additional methods provided by it"
   ]
  },
  {
   "cell_type": "code",
   "execution_count": 1,
   "metadata": {},
   "outputs": [
    {
     "name": "stdout",
     "output_type": "stream",
     "text": [
      "{'one': 10, 'two': 20, 'three': 30}\n"
     ]
    }
   ],
   "source": [
    "d = {}\n",
    "d['one'] = 10\n",
    "d['two'] = 20\n",
    "d['three'] = 30\n",
    "print(d)"
   ]
  },
  {
   "cell_type": "code",
   "execution_count": 7,
   "metadata": {},
   "outputs": [
    {
     "data": {
      "text/plain": [
       "'nothing to see here, keep moving!'"
      ]
     },
     "execution_count": 7,
     "metadata": {},
     "output_type": "execute_result"
    }
   ],
   "source": [
    "# d['five']\n",
    "d.get('five', 'nothing to see here, keep moving!')"
   ]
  },
  {
   "cell_type": "markdown",
   "metadata": {
    "slideshow": {
     "slide_type": "slide"
    }
   },
   "source": [
    "# The __`collections`__ module: Default Dictionaries"
   ]
  },
  {
   "cell_type": "markdown",
   "metadata": {
    "slideshow": {
     "slide_type": "subslide"
    }
   },
   "source": [
    "## Default Dictionaries\n",
    "* suppose we need a default value for any key which does not exist in the dictionary\n",
    " * we can use the __`get()`__ function, or __`setdefault()`__ (or the __`in`__ operator), or we can use a `Default Dictionary`"
   ]
  },
  {
   "cell_type": "code",
   "execution_count": 8,
   "metadata": {},
   "outputs": [
    {
     "data": {
      "text/plain": [
       "{'F': 1,\n",
       " 'i': 3,\n",
       " 'c': 1,\n",
       " 't': 5,\n",
       " 'u': 6,\n",
       " 'm': 5,\n",
       " 'd': 1,\n",
       " 'e': 3,\n",
       " 's': 2,\n",
       " 'r': 2,\n",
       " 'n': 2,\n",
       " 'o': 2,\n",
       " 'l': 3,\n",
       " 'a': 3,\n",
       " 'b': 1,\n",
       " 'q': 1}"
      ]
     },
     "execution_count": 8,
     "metadata": {},
     "output_type": "execute_result"
    }
   ],
   "source": [
    "def count_letters(word):\n",
    "  '''Return a dict of letters and how many times the letter appeared in the word'''\n",
    "  count = {}\n",
    "\n",
    "  for letter in word:\n",
    "    count[letter] = count.get(letter, 0) + 1\n",
    "\n",
    "  return count\n",
    "\n",
    "count_letters('Fictumdeseruntmollitanimlaborumastutumque')"
   ]
  },
  {
   "cell_type": "code",
   "execution_count": 9,
   "metadata": {},
   "outputs": [
    {
     "data": {
      "text/plain": [
       "defaultdict(int,\n",
       "            {'F': 1,\n",
       "             'i': 3,\n",
       "             'c': 1,\n",
       "             't': 5,\n",
       "             'u': 6,\n",
       "             'm': 5,\n",
       "             'd': 1,\n",
       "             'e': 3,\n",
       "             's': 2,\n",
       "             'r': 2,\n",
       "             'n': 2,\n",
       "             'o': 2,\n",
       "             'l': 3,\n",
       "             'a': 3,\n",
       "             'b': 1,\n",
       "             'q': 1})"
      ]
     },
     "execution_count": 9,
     "metadata": {},
     "output_type": "execute_result"
    }
   ],
   "source": [
    "from collections import defaultdict\n",
    "\n",
    "def count_letters(word):\n",
    "  '''Return a dict of letters and how many times the letter appeared in the word'''\n",
    "\n",
    "  # When creating a defaultdict\n",
    "  # the passed argument dictates what the\n",
    "  # default value will be (int = 0, str = '', list = [])\n",
    "  count = defaultdict(int)\n",
    "\n",
    "  for letter in word:\n",
    "    count[letter] += 1\n",
    "\n",
    "  return count\n",
    "\n",
    "count_letters('Fictumdeseruntmollitanimlaborumastutumque')"
   ]
  },
  {
   "cell_type": "markdown",
   "metadata": {
    "slideshow": {
     "slide_type": "subslide"
    }
   },
   "source": [
    "## Lab: Default Dictionaries\n",
    "* read from a file where each line is a word followed by a count, e.g.,\n",
    "<pre>\n",
    "    apple 2\n",
    "    pear 3\n",
    "    cherry 5\n",
    "    apple 3\n",
    "    pear 6\n",
    "    apple 1\n",
    "</pre>\n",
    "(as shown above, words may be duplicated)\n",
    "* generate a __`defaultdict`__ where the keys are the words and the value are a _list_ of all the counts for that word, e.g.,\n",
    "<pre>\n",
    "defaultdict(&lt;class 'list'>, {'apple': ['2', '3', '1'], 'pear': ['3', '6'], 'cherry': ['5']})\n",
    "</pre>"
   ]
  },
  {
   "cell_type": "code",
   "execution_count": 15,
   "metadata": {},
   "outputs": [
    {
     "name": "stdout",
     "output_type": "stream",
     "text": [
      "defaultdict(<class 'list'>, {'apple': ['2', '3', '1'], 'pear': ['3', '6'], 'cherry': ['5']})\n"
     ]
    }
   ],
   "source": [
    "from collections import defaultdict\n",
    "\n",
    "def process_file(filename):\n",
    "  word_count = defaultdict(list)\n",
    "\n",
    "  with open(filename, 'r') as file:\n",
    "    for line in file:\n",
    "      word, count = line.strip().split()\n",
    "      word_count[word].append(count)\n",
    "\n",
    "  return word_count\n",
    "\n",
    "result = process_file(\"data.txt\")\n",
    "print(result)"
   ]
  },
  {
   "cell_type": "markdown",
   "metadata": {},
   "source": [
    "## Now, for more fun, let's implement a default dictionary without using the __`collections`__ module\n",
    "* In other words, make your own class (e.g., MyDefaultDict)\n",
    "* What class or classes should it inherit from?\n",
    "* You will need to create the method __`__getitem__(self, key)__`__ which is what Python uses under the hood to retrieve an item from a dictionary\n",
    " * if the key in question is not currenty in the dict, what should you return?"
   ]
  },
  {
   "cell_type": "code",
   "execution_count": 17,
   "metadata": {},
   "outputs": [
    {
     "data": {
      "text/plain": [
       "{'name': 'Usman Bashir', 'age': 9000}"
      ]
     },
     "execution_count": 17,
     "metadata": {},
     "output_type": "execute_result"
    }
   ],
   "source": [
    "class CustomDefaultDict(dict):\n",
    "  def __init__(self, default_factory, **kwargs):\n",
    "    self.default_factory = default_factory\n",
    "    super().__init__(**kwargs)\n",
    "\n",
    "  def __getitem__(self, key):\n",
    "    if key not in self:\n",
    "      self[key] = self.default_factory()\n",
    "\n",
    "    return super().__getitem__(key)\n",
    "\n",
    "\n",
    "# Example\n",
    "# {\"name\": \"Usman Bashir\"}\n",
    "dict(name=\"Usman Bashir\", age=900)\n",
    "CustomDefaultDict(None, name=\"Usman Bashir\", age=9000)"
   ]
  },
  {
   "cell_type": "code",
   "execution_count": 20,
   "metadata": {},
   "outputs": [
    {
     "data": {
      "text/plain": [
       "[]"
      ]
     },
     "execution_count": 20,
     "metadata": {},
     "output_type": "execute_result"
    }
   ],
   "source": [
    "int()\n",
    "str()\n",
    "list()"
   ]
  },
  {
   "cell_type": "code",
   "execution_count": 25,
   "metadata": {},
   "outputs": [
    {
     "name": "stdout",
     "output_type": "stream",
     "text": [
      "0\n",
      "42\n",
      "\n"
     ]
    }
   ],
   "source": [
    "custom_dict = CustomDefaultDict(int)\n",
    "\n",
    "print(custom_dict['missing_key'])\n",
    "\n",
    "custom_dict['existing_key'] = 42\n",
    "\n",
    "print(custom_dict['existing_key'])\n",
    "\n",
    "custom_dict_str = CustomDefaultDict(str)\n",
    "\n",
    "print(custom_dict_str['some_key'])"
   ]
  },
  {
   "cell_type": "markdown",
   "metadata": {
    "slideshow": {
     "slide_type": "slide"
    }
   },
   "source": [
    "# The __`collections`__ module: Deque"
   ]
  },
  {
   "cell_type": "markdown",
   "metadata": {
    "slideshow": {
     "slide_type": "subslide"
    }
   },
   "source": [
    "# Deque\n",
    "* pronounced \"deck\"\n",
    "* like a list, but optimized for faster append and pop operations\n",
    "* double ended queue, meaning you can add or remove elements from both the front and back\n",
    "* O(1) time complexity for efficient append and pop operations\n",
    "  * constant amount of time regardless of the input size\n",
    "\n",
    "* what is it good for?\n",
    "  * fast and efficient appends and pops\n",
    "  * implementing queues and stacks\n",
    "  * when you need a fixed size\n",
    "* what's the catch?\n",
    "  * uses a bit more memory then lists\n",
    "  * is slow when accessing a random item, O(n) compared to O(1) for lists\n",
    "    * an amount of time that grows linearly with the input size\n",
    "* but what can i use it for?\n",
    "  * first-in, first-out (FIFO) queue\n",
    "  * last-in, first-out (LIFO) stack\n",
    "  * LRU(least recently used) cache\n",
    "    * though the `OrderedDict` might be a more efficient option\n",
    "    * but the `functools.lru_cache` decorator already provides this functionality"
   ]
  },
  {
   "cell_type": "code",
   "execution_count": 26,
   "metadata": {},
   "outputs": [
    {
     "name": "stdout",
     "output_type": "stream",
     "text": [
      "deque([0, 1, 2, 3, 4, 5, 6, 7, 8, 9], maxlen=10)\n"
     ]
    }
   ],
   "source": [
    "from collections import deque\n",
    "\n",
    "dq = deque(range(10), maxlen=10) # maxlen is optional\n",
    "print(dq)"
   ]
  },
  {
   "cell_type": "code",
   "execution_count": 27,
   "metadata": {},
   "outputs": [
    {
     "name": "stdout",
     "output_type": "stream",
     "text": [
      "deque([7, 8, 9, 0, 1, 2, 3, 4, 5, 6], maxlen=10)\n"
     ]
    }
   ],
   "source": [
    "dq.rotate(3)\n",
    "print(dq)"
   ]
  },
  {
   "cell_type": "code",
   "execution_count": 28,
   "metadata": {},
   "outputs": [
    {
     "name": "stdout",
     "output_type": "stream",
     "text": [
      "deque([1, 2, 3, 4, 5, 6, 7, 8, 9, 0], maxlen=10)\n"
     ]
    }
   ],
   "source": [
    "dq.rotate(-4)\n",
    "print(dq)"
   ]
  },
  {
   "cell_type": "code",
   "execution_count": 29,
   "metadata": {},
   "outputs": [
    {
     "name": "stdout",
     "output_type": "stream",
     "text": [
      "deque(['a', 1, 2, 3, 4, 5, 6, 7, 8, 9], maxlen=10)\n"
     ]
    }
   ],
   "source": [
    "dq.appendleft('a')\n",
    "print(dq)"
   ]
  },
  {
   "cell_type": "code",
   "execution_count": null,
   "metadata": {},
   "outputs": [
    {
     "name": "stdout",
     "output_type": "stream",
     "text": [
      "deque([3, 4, 5, 6, 7, 8, 9, 'b', 'c', 'd'], maxlen=10)\n"
     ]
    }
   ],
   "source": [
    "dq.extend('bcd') # Add multiple elements to the right end of the deque\n",
    "print(dq)"
   ]
  },
  {
   "cell_type": "code",
   "execution_count": 31,
   "metadata": {},
   "outputs": [
    {
     "name": "stdout",
     "output_type": "stream",
     "text": [
      "deque([-3, -2, -1, 3, 4, 5, 6, 7, 8, 9], maxlen=10)\n"
     ]
    }
   ],
   "source": [
    "dq.extendleft((-1, -2, -3)) # Add multiple element to the left side of the deque\n",
    "print(dq)"
   ]
  },
  {
   "cell_type": "code",
   "execution_count": 32,
   "metadata": {},
   "outputs": [
    {
     "data": {
      "text/plain": [
       "9"
      ]
     },
     "execution_count": 32,
     "metadata": {},
     "output_type": "execute_result"
    }
   ],
   "source": [
    "dq.pop()"
   ]
  },
  {
   "cell_type": "code",
   "execution_count": 33,
   "metadata": {},
   "outputs": [
    {
     "data": {
      "text/plain": [
       "-3"
      ]
     },
     "execution_count": 33,
     "metadata": {},
     "output_type": "execute_result"
    }
   ],
   "source": [
    "dq.popleft()"
   ]
  },
  {
   "cell_type": "code",
   "execution_count": 35,
   "metadata": {},
   "outputs": [
    {
     "name": "stdout",
     "output_type": "stream",
     "text": [
      "deque([-2, -1, 3, 4, 5, 6, 7, 8], maxlen=10)\n",
      "deque([-2, -1, 4, 5, 6, 7, 8], maxlen=10)\n"
     ]
    }
   ],
   "source": [
    "print(dq)\n",
    "dq.remove(3)\n",
    "print(dq)"
   ]
  },
  {
   "cell_type": "code",
   "execution_count": 36,
   "metadata": {},
   "outputs": [
    {
     "name": "stdout",
     "output_type": "stream",
     "text": [
      "deque([8, 7, 6, 5, 4, -1, -2], maxlen=10)\n"
     ]
    }
   ],
   "source": [
    "dq.reverse()\n",
    "print(dq)"
   ]
  },
  {
   "cell_type": "code",
   "execution_count": 37,
   "metadata": {},
   "outputs": [
    {
     "name": "stdout",
     "output_type": "stream",
     "text": [
      "deque([8, 7, 6, 5, 4, -1, -2, 0], maxlen=10)\n"
     ]
    }
   ],
   "source": [
    "dq.append(0)\n",
    "print(dq)"
   ]
  },
  {
   "cell_type": "markdown",
   "metadata": {},
   "source": [
    "# Lab: Deque\n",
    "* use a deque to print the last *n* lines of file, much like __`tail`__ in Linux\n",
    "* remember that you can iterate through a file a line at a time"
   ]
  },
  {
   "cell_type": "code",
   "execution_count": 38,
   "metadata": {},
   "outputs": [],
   "source": [
    "from collections import deque\n",
    "\n",
    "def tail(filename, n):\n",
    "  with open(filename, 'r') as file:\n",
    "    last_n_lines = deque(file, maxlen=n)\n",
    "\n",
    "  for line in last_n_lines:\n",
    "    print(line, end='')"
   ]
  },
  {
   "cell_type": "code",
   "execution_count": 42,
   "metadata": {},
   "outputs": [
    {
     "name": "stdout",
     "output_type": "stream",
     "text": [
      "most royally: and, for his passage, The soldiers' music and the\n",
      "rites of war Speak loudly for him.  Take up the bodies: such a sight\n",
      "as this Becomes the field, but here shows much amiss.  Go, bid the\n",
      "soldiers shoot.  A dead march. Exeunt, bearing off the dead bodies;\n",
      "after which a peal of ordnance is shot off\n"
     ]
    }
   ],
   "source": [
    "tail(\"hamlet.txt\", 5)"
   ]
  },
  {
   "cell_type": "markdown",
   "metadata": {
    "slideshow": {
     "slide_type": "slide"
    }
   },
   "source": [
    "# The __`collections`__ module: Named Tuples"
   ]
  },
  {
   "cell_type": "markdown",
   "metadata": {
    "slideshow": {
     "slide_type": "subslide"
    }
   },
   "source": [
    "## Named Tuples\n",
    "* tuples are quite handy, but they are missing a key feature when using them as records–sometimes we want to name the fields\n",
    " * more efficient (i.e., less memory) than dictionaries because instances don't need to contain the keys themselves, as dictionaries do, just the values\n",
    "* __`namedtuple()`__ returns not an individual object but a new class, customized for the given names"
   ]
  },
  {
   "cell_type": "code",
   "execution_count": 43,
   "metadata": {},
   "outputs": [
    {
     "name": "stdout",
     "output_type": "stream",
     "text": [
      "Point(x=1, y=2)\n",
      "<class '__main__.Point'>\n"
     ]
    }
   ],
   "source": [
    "from collections import namedtuple\n",
    "\n",
    "Point = namedtuple('Point', 'x y')\n",
    "# The first argument is the name of the tuble class itself\n",
    "#\n",
    "# The second argument is the atrribute names as an iterable of strings\n",
    "# or a single space/comma-delimited string\n",
    "\n",
    "point1 = Point(1, 2)\n",
    "\n",
    "print(point1, type(point1), sep='\\n')"
   ]
  },
  {
   "cell_type": "code",
   "execution_count": 44,
   "metadata": {},
   "outputs": [
    {
     "name": "stdout",
     "output_type": "stream",
     "text": [
      "Point(x=-3, y=-2)\n"
     ]
    }
   ],
   "source": [
    "point2 = Point(-3, -2)\n",
    "print(point2)"
   ]
  },
  {
   "cell_type": "code",
   "execution_count": 45,
   "metadata": {},
   "outputs": [
    {
     "name": "stdout",
     "output_type": "stream",
     "text": [
      "1 2\n"
     ]
    }
   ],
   "source": [
    "print(point1[0], point1[1])"
   ]
  },
  {
   "cell_type": "code",
   "execution_count": 46,
   "metadata": {},
   "outputs": [
    {
     "name": "stdout",
     "output_type": "stream",
     "text": [
      "1 2\n"
     ]
    }
   ],
   "source": [
    "print(point1.x, point1.y)"
   ]
  },
  {
   "cell_type": "code",
   "execution_count": 47,
   "metadata": {},
   "outputs": [
    {
     "name": "stdout",
     "output_type": "stream",
     "text": [
      "City(name='Tokyo', country='Japan', population=36.99, coordinates=(35.689722, 139.691667))\n"
     ]
    }
   ],
   "source": [
    "City = namedtuple('City', 'name country population coordinates')\n",
    "\n",
    "tokyo = City('Tokyo', 'Japan', 36.99, (35.689722, 139.691667))\n",
    "\n",
    "print(tokyo)"
   ]
  },
  {
   "cell_type": "code",
   "execution_count": 48,
   "metadata": {},
   "outputs": [
    {
     "name": "stdout",
     "output_type": "stream",
     "text": [
      "36.99\n",
      "(35.689722, 139.691667)\n",
      "Japan\n"
     ]
    }
   ],
   "source": [
    "print(tokyo.population)\n",
    "print(tokyo.coordinates)\n",
    "print(tokyo[1])"
   ]
  },
  {
   "cell_type": "code",
   "execution_count": 49,
   "metadata": {},
   "outputs": [
    {
     "data": {
      "text/plain": [
       "(type, __main__.City)"
      ]
     },
     "execution_count": 49,
     "metadata": {},
     "output_type": "execute_result"
    }
   ],
   "source": [
    "type(City), type(tokyo)"
   ]
  },
  {
   "cell_type": "code",
   "execution_count": 50,
   "metadata": {},
   "outputs": [
    {
     "name": "stdout",
     "output_type": "stream",
     "text": [
      "name\n",
      "country\n",
      "population\n",
      "coordinates\n"
     ]
    }
   ],
   "source": [
    "for field in City._fields:\n",
    "  print(field)"
   ]
  },
  {
   "cell_type": "code",
   "execution_count": 51,
   "metadata": {},
   "outputs": [],
   "source": [
    "LatLong = namedtuple('LatLong', 'lat long')\n",
    "\n",
    "riyadh_data = ('Riyadh', 'Saudi Arabia', 7.009, LatLong(24.633333, 46.716667))"
   ]
  },
  {
   "cell_type": "code",
   "execution_count": 53,
   "metadata": {},
   "outputs": [
    {
     "data": {
      "text/plain": [
       "City(name='Riyadh', country='Saudi Arabia', population=7.009, coordinates=LatLong(lat=24.633333, long=46.716667))"
      ]
     },
     "execution_count": 53,
     "metadata": {},
     "output_type": "execute_result"
    }
   ],
   "source": [
    "riyadh = City._make(riyadh_data)\n",
    "riyadh"
   ]
  },
  {
   "cell_type": "code",
   "execution_count": 54,
   "metadata": {},
   "outputs": [
    {
     "name": "stdout",
     "output_type": "stream",
     "text": [
      "{'name': 'Riyadh', 'country': 'Saudi Arabia', 'population': 7.009, 'coordinates': LatLong(lat=24.633333, long=46.716667)}\n"
     ]
    }
   ],
   "source": [
    "r = riyadh._asdict()\n",
    "print(r)"
   ]
  },
  {
   "cell_type": "code",
   "execution_count": null,
   "metadata": {},
   "outputs": [],
   "source": []
  },
  {
   "cell_type": "code",
   "execution_count": null,
   "metadata": {},
   "outputs": [],
   "source": []
  },
  {
   "cell_type": "markdown",
   "metadata": {
    "slideshow": {
     "slide_type": "subslide"
    }
   },
   "source": [
    "# Lab: Named Tuples\n",
    "1. Create a named tuple called __`Card`__ (representing a playing card) which has two fields, __`rank`__ and __`suit`__\n",
    "2. Create a list of __`Card`__s, which, when initialized, contains all 52 cards in a deck\n",
    "3. In other words, the list (or deck) should contain  \n",
    "\n",
    "`[Card(rank=2, suit='clubs'), Card(rank=3, suit='clubs'), Card(rank=4, suit='clubs'), ..., Card(rank='Q', suit='spades'), Card(rank='K', suit='spades'), Card(rank='A', suit='spades')] `\n",
    "* ranks = 2, 3, 4, ..., 10, J, Q, K, A (strings)\n",
    "* suits = clubs, hearts, diamonds, spades (strings)"
   ]
  },
  {
   "cell_type": "code",
   "execution_count": null,
   "metadata": {},
   "outputs": [],
   "source": [
    "from collections import namedtuple\n",
    "\n",
    "# Step 1: Define the named tuple\n",
    "Card = namedtuple('Card', ['rank', 'suit'])\n",
    "\n",
    "# Step 2: Define ranks and suits\n",
    "ranks = [str(n) for n in range(2, 11)] + ['J', 'Q', 'K', 'A']\n",
    "suits = ['clubs', 'hearts', 'diamonds', 'spades']\n",
    "\n",
    "# Step 3: Create the deck of 52 cards\n",
    "deck = [Card(rank, suit) for suit in suits for rank in ranks]\n",
    "\n",
    "# Step 4: Print the deck\n",
    "print(deck)"
   ]
  },
  {
   "cell_type": "markdown",
   "metadata": {
    "slideshow": {
     "slide_type": "slide"
    }
   },
   "source": [
    "# The __`collections`__ module: Counters"
   ]
  },
  {
   "cell_type": "markdown",
   "metadata": {
    "slideshow": {
     "slide_type": "subslide"
    }
   },
   "source": [
    "## Counters\n",
    "* __`dict`__ subclass for counting things\n",
    "* unordered collection where things being counted are lists, string, or `dict` keys and the counts are `dict` values\n",
    "* __`Counters`__ can have negative values\n",
    "\n",
    "* what can i use it for?\n",
    "  * count word frequencies in a document or letter frequencies in a string\n",
    "  * keep track of inventory items and their quantities\n",
    "  * analyzing the frequency of events or items in a dataset\n",
    "  * etc..."
   ]
  },
  {
   "cell_type": "code",
   "execution_count": 55,
   "metadata": {},
   "outputs": [
    {
     "data": {
      "text/plain": [
       "Counter()"
      ]
     },
     "execution_count": 55,
     "metadata": {},
     "output_type": "execute_result"
    }
   ],
   "source": [
    "from collections import Counter\n",
    "\n",
    "c = Counter()\n",
    "c"
   ]
  },
  {
   "cell_type": "code",
   "execution_count": 56,
   "metadata": {},
   "outputs": [
    {
     "data": {
      "text/plain": [
       "Counter({'apple': 3, 'banana': 2, 'orange': 1})"
      ]
     },
     "execution_count": 56,
     "metadata": {},
     "output_type": "execute_result"
    }
   ],
   "source": [
    "c = Counter(['apple', 'banana', 'apple', 'orange', 'banana', 'apple'])\n",
    "c"
   ]
  },
  {
   "cell_type": "code",
   "execution_count": 57,
   "metadata": {},
   "outputs": [
    {
     "data": {
      "text/plain": [
       "Counter({'i': 5,\n",
       "         'a': 4,\n",
       "         's': 4,\n",
       "         'n': 3,\n",
       "         't': 3,\n",
       "         'e': 2,\n",
       "         'm': 2,\n",
       "         'd': 1,\n",
       "         'b': 1,\n",
       "         'l': 1,\n",
       "         'h': 1,\n",
       "         'r': 1})"
      ]
     },
     "execution_count": 57,
     "metadata": {},
     "output_type": "execute_result"
    }
   ],
   "source": [
    "c = Counter('antidisestablishmentarianism')\n",
    "c"
   ]
  },
  {
   "cell_type": "code",
   "execution_count": 59,
   "metadata": {},
   "outputs": [
    {
     "data": {
      "text/plain": [
       "Counter({'s': 24,\n",
       "         'i': 15,\n",
       "         'a': 14,\n",
       "         't': 13,\n",
       "         'e': 12,\n",
       "         'b': 11,\n",
       "         'l': 11,\n",
       "         'h': 11,\n",
       "         'n': 3,\n",
       "         'm': 2,\n",
       "         'd': 1,\n",
       "         'r': 1})"
      ]
     },
     "execution_count": 59,
     "metadata": {},
     "output_type": "execute_result"
    }
   ],
   "source": [
    "c.update('establish' * 10)\n",
    "c"
   ]
  },
  {
   "cell_type": "code",
   "execution_count": 60,
   "metadata": {},
   "outputs": [
    {
     "data": {
      "text/plain": [
       "Counter({'red': 5, 'blue': -1})"
      ]
     },
     "execution_count": 60,
     "metadata": {},
     "output_type": "execute_result"
    }
   ],
   "source": [
    "c = Counter({'red': 5, 'blue': -1})\n",
    "c"
   ]
  },
  {
   "cell_type": "code",
   "execution_count": 61,
   "metadata": {},
   "outputs": [
    {
     "data": {
      "text/plain": [
       "Counter({'bar': 2, 'foo': 1})"
      ]
     },
     "execution_count": 61,
     "metadata": {},
     "output_type": "execute_result"
    }
   ],
   "source": [
    "c = Counter(foo=1, bar=2)\n",
    "c"
   ]
  },
  {
   "cell_type": "code",
   "execution_count": 63,
   "metadata": {},
   "outputs": [
    {
     "data": {
      "text/plain": [
       "<itertools.chain at 0x7ff29d8d8970>"
      ]
     },
     "execution_count": 63,
     "metadata": {},
     "output_type": "execute_result"
    }
   ],
   "source": [
    "c = Counter(red=6, blue=5, green=3, pink=1, yellow=-3)\n",
    "c.elements()"
   ]
  },
  {
   "cell_type": "code",
   "execution_count": 64,
   "metadata": {},
   "outputs": [
    {
     "name": "stdout",
     "output_type": "stream",
     "text": [
      "red red red red red red blue blue blue blue blue green green green pink "
     ]
    }
   ],
   "source": [
    "for thing in c.elements():\n",
    "  print(thing, end=' ')"
   ]
  },
  {
   "cell_type": "code",
   "execution_count": 65,
   "metadata": {},
   "outputs": [
    {
     "data": {
      "text/plain": [
       "[('red', 6), ('blue', 5), ('green', 3)]"
      ]
     },
     "execution_count": 65,
     "metadata": {},
     "output_type": "execute_result"
    }
   ],
   "source": [
    "c.most_common(3)"
   ]
  },
  {
   "cell_type": "code",
   "execution_count": 66,
   "metadata": {},
   "outputs": [
    {
     "data": {
      "text/plain": [
       "dict_items([('red', 6), ('blue', 5), ('green', 3), ('pink', 1), ('yellow', -3)])"
      ]
     },
     "execution_count": 66,
     "metadata": {},
     "output_type": "execute_result"
    }
   ],
   "source": [
    "c.items()"
   ]
  },
  {
   "cell_type": "code",
   "execution_count": 67,
   "metadata": {},
   "outputs": [
    {
     "data": {
      "text/plain": [
       "Counter({'red': 6, 'blue': 5, 'green': 3, 'pink': 1, 'yellow': -3})"
      ]
     },
     "execution_count": 67,
     "metadata": {},
     "output_type": "execute_result"
    }
   ],
   "source": [
    "c"
   ]
  },
  {
   "cell_type": "code",
   "execution_count": 68,
   "metadata": {},
   "outputs": [
    {
     "data": {
      "text/plain": [
       "Counter({'red': 3,\n",
       "         'green': 1,\n",
       "         'pink': 1,\n",
       "         'blue': 0,\n",
       "         'yellow': -3,\n",
       "         'fuschia': -3})"
      ]
     },
     "execution_count": 68,
     "metadata": {},
     "output_type": "execute_result"
    }
   ],
   "source": [
    "d = Counter(fuschia=3, pink=0, red=3, blue=5, green=2)\n",
    "c.subtract(d) # preserves negative values\n",
    "c"
   ]
  },
  {
   "cell_type": "code",
   "execution_count": 69,
   "metadata": {},
   "outputs": [
    {
     "data": {
      "text/plain": [
       "Counter({'red': 3, 'green': 1, 'pink': 1})"
      ]
     },
     "execution_count": 69,
     "metadata": {},
     "output_type": "execute_result"
    }
   ],
   "source": [
    "+c # generates new Counter, discarding 0s or negatives"
   ]
  },
  {
   "cell_type": "code",
   "execution_count": 70,
   "metadata": {},
   "outputs": [
    {
     "data": {
      "text/plain": [
       "Counter({'red': 3, 'green': 1, 'pink': 1})"
      ]
     },
     "execution_count": 70,
     "metadata": {},
     "output_type": "execute_result"
    }
   ],
   "source": [
    "c = +c\n",
    "c"
   ]
  },
  {
   "cell_type": "code",
   "execution_count": 71,
   "metadata": {},
   "outputs": [
    {
     "data": {
      "text/plain": [
       "Counter({'blue': 5, 'yellow': 3})"
      ]
     },
     "execution_count": 71,
     "metadata": {},
     "output_type": "execute_result"
    }
   ],
   "source": [
    "c = Counter(red=6, blue=-5, green=3, pink=1, yellow=-3)\n",
    "c = -c # discard positives and multiply remaining negatives by -1\n",
    "c"
   ]
  },
  {
   "cell_type": "code",
   "execution_count": 72,
   "metadata": {},
   "outputs": [
    {
     "data": {
      "text/plain": [
       "Counter({'yellow': 10, 'green': 9, 'red': 6, 'blue': 5})"
      ]
     },
     "execution_count": 72,
     "metadata": {},
     "output_type": "execute_result"
    }
   ],
   "source": [
    "d = Counter(red=6, yellow=7, green=9)\n",
    "c.update(d)\n",
    "c"
   ]
  },
  {
   "cell_type": "code",
   "execution_count": 73,
   "metadata": {},
   "outputs": [
    {
     "data": {
      "text/plain": [
       "Counter({'c': 9, 'a': 4, 'b': 3})"
      ]
     },
     "execution_count": 73,
     "metadata": {},
     "output_type": "execute_result"
    }
   ],
   "source": [
    "c = Counter(a=3, b=1, c=4)\n",
    "d = Counter(a=1, b=2, c=5)\n",
    "c + d"
   ]
  },
  {
   "cell_type": "code",
   "execution_count": 74,
   "metadata": {},
   "outputs": [
    {
     "data": {
      "text/plain": [
       "Counter({'a': 2})"
      ]
     },
     "execution_count": 74,
     "metadata": {},
     "output_type": "execute_result"
    }
   ],
   "source": [
    "c - d"
   ]
  },
  {
   "cell_type": "code",
   "execution_count": 75,
   "metadata": {},
   "outputs": [
    {
     "name": "stdout",
     "output_type": "stream",
     "text": [
      "Counter({'c': 4, 'a': 3, 'b': 1})\n",
      "Counter({'c': 5, 'b': 2, 'a': 1})\n"
     ]
    }
   ],
   "source": [
    "print(c, d, sep='\\n')"
   ]
  },
  {
   "cell_type": "markdown",
   "metadata": {
    "slideshow": {
     "slide_type": "subslide"
    }
   },
   "source": [
    "## Lab: Counters\n",
    "* Use a __`Counter`__ to count the words in a file\n",
    "* That is, read in a file, separate it into words, and use a __`Counter`__ to count the number of occurrences of each word in the file.\n",
    "* Print out the 10 most common words in the file"
   ]
  },
  {
   "cell_type": "code",
   "execution_count": 76,
   "metadata": {},
   "outputs": [
    {
     "name": "stdout",
     "output_type": "stream",
     "text": [
      "I: 8\n",
      "the: 8\n",
      "And: 6\n",
      "as: 5\n",
      "in: 3\n",
      "a: 3\n",
      "one: 3\n",
      "and: 3\n",
      "that: 3\n",
      "roads: 2\n"
     ]
    }
   ],
   "source": [
    "from collections import Counter\n",
    "\n",
    "def count_words(filename):\n",
    "    with open(filename, 'r') as file:\n",
    "        words = file.read().split()  # Split file content into words\n",
    "    \n",
    "    word_counts = Counter(words)  # Count occurrences of each word\n",
    "    return word_counts.most_common(10)  # Get the 10 most common words\n",
    "\n",
    "top_words = count_words(\"poem.txt\")\n",
    "\n",
    "for word, count in top_words:\n",
    "    print(f\"{word}: {count}\")"
   ]
  }
 ],
 "metadata": {
  "celltoolbar": "Slideshow",
  "kernelspec": {
   "display_name": "LFG-Intermediate-Python-03-2025",
   "language": "python",
   "name": "python3"
  },
  "language_info": {
   "codemirror_mode": {
    "name": "ipython",
    "version": 3
   },
   "file_extension": ".py",
   "mimetype": "text/x-python",
   "name": "python",
   "nbconvert_exporter": "python",
   "pygments_lexer": "ipython3",
   "version": "3.12.4"
  }
 },
 "nbformat": 4,
 "nbformat_minor": 4
}
