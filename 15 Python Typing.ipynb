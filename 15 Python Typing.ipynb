{
 "cells": [
  {
   "cell_type": "markdown",
   "metadata": {
    "slideshow": {
     "slide_type": "slide"
    }
   },
   "source": [
    "# Python Type Hinting"
   ]
  },
  {
   "cell_type": "markdown",
   "metadata": {
    "slideshow": {
     "slide_type": "subslide"
    }
   },
   "source": [
    "* Python 3.6+ _type hinting_ allows you to specify types when you declare variables\n",
    "* ...or when you return a value from a function\n",
    "* Python itself doesn't do anything with this information, but...\n",
    "* ...there is a static type checker called __`mypy`__ which will check types"
   ]
  },
  {
   "cell_type": "code",
   "execution_count": null,
   "metadata": {},
   "outputs": [],
   "source": [
    "%%python2\n",
    "x: int = 1"
   ]
  },
  {
   "cell_type": "code",
   "execution_count": null,
   "metadata": {},
   "outputs": [],
   "source": [
    "# valid Python 3.6 code\n",
    "x: int = 1"
   ]
  },
  {
   "cell_type": "code",
   "execution_count": null,
   "metadata": {},
   "outputs": [],
   "source": [
    "type(x)"
   ]
  },
  {
   "cell_type": "code",
   "execution_count": null,
   "metadata": {},
   "outputs": [],
   "source": [
    "# no checking done here\n",
    "x = 3.5\n",
    "type(x)"
   ]
  },
  {
   "cell_type": "code",
   "execution_count": null,
   "metadata": {},
   "outputs": [],
   "source": [
    "!cat -n type1.py"
   ]
  },
  {
   "cell_type": "code",
   "execution_count": null,
   "metadata": {},
   "outputs": [],
   "source": [
    "!mypy type1.py"
   ]
  },
  {
   "cell_type": "code",
   "execution_count": null,
   "metadata": {
    "slideshow": {
     "slide_type": "subslide"
    }
   },
   "outputs": [],
   "source": [
    "%load type2.py\n",
    "from typing import List, Any\n",
    "\n",
    "def func(arg: int) -> List[int]:\n",
    "    '''This function takes an int and returns a list of ints'''\n",
    "    mylist: List[int] = []\n",
    "    x: int = 3.0 # oops!\n",
    "    mylist.append(x)\n",
    "\n",
    "    return mylist\n",
    "\n",
    "def otherfunc(arg: float) -> List[Any]:\n",
    "    '''This function takes a float and return any kind of list'''\n",
    "    return str(arg)\n"
   ]
  },
  {
   "cell_type": "code",
   "execution_count": null,
   "metadata": {},
   "outputs": [],
   "source": [
    "!mypy type2.py"
   ]
  },
  {
   "cell_type": "code",
   "execution_count": null,
   "metadata": {
    "slideshow": {
     "slide_type": "subslide"
    }
   },
   "outputs": [],
   "source": [
    "# %load type3.py\n",
    "from typing import Dict, List\n",
    "\n",
    "returned_from_outside_func = 3.1\n",
    "\n",
    "# dict where keys are strings and values are ints\n",
    "\n",
    "name_counts: Dict[str, int] = {\n",
    "    \"Marc Benioff\": 14,\n",
    "    \"Dave Wade-Stein\": 6\n",
    "}\n",
    "\n",
    "# list of integers\n",
    "\n",
    "val: int = 1\n",
    "numbers: List[int] = [1, 2, 3, 4, 5, 6]\n",
    "\n",
    "# list which holds dicts \n",
    "# each dict holds a string key / int value\n",
    "\n",
    "list_of_dicts: List[Dict[str, int]] = [\n",
    "    { \"key1\": 1, \"key2\": 2 },\n",
    "    { \"key\": val,\n",
    "      \"something\": returned_from_outside_func },\n",
    "]\n"
   ]
  },
  {
   "cell_type": "code",
   "execution_count": null,
   "metadata": {},
   "outputs": [],
   "source": [
    "!mypy type3.py"
   ]
  },
  {
   "cell_type": "code",
   "execution_count": null,
   "metadata": {
    "slideshow": {
     "slide_type": "subslide"
    }
   },
   "outputs": [],
   "source": [
    "!cat type4.py"
   ]
  },
  {
   "cell_type": "code",
   "execution_count": null,
   "metadata": {},
   "outputs": [],
   "source": [
    "!/Library/Frameworks/Python.framework/Versions/3.7/bin/mypy type4.py"
   ]
  },
  {
   "cell_type": "code",
   "execution_count": null,
   "metadata": {},
   "outputs": [],
   "source": [
    "x: int = 1"
   ]
  },
  {
   "cell_type": "code",
   "execution_count": null,
   "metadata": {},
   "outputs": [],
   "source": [
    "dir(x)"
   ]
  },
  {
   "cell_type": "code",
   "execution_count": null,
   "metadata": {},
   "outputs": [],
   "source": [
    "from typing import Any\n",
    "\n",
    "def func(x: int) -> Any:\n",
    "    return 1"
   ]
  }
 ],
 "metadata": {
  "celltoolbar": "Slideshow",
  "kernelspec": {
   "display_name": "Python 3 (ipykernel)",
   "language": "python",
   "name": "python3"
  },
  "language_info": {
   "codemirror_mode": {
    "name": "ipython",
    "version": 3
   },
   "file_extension": ".py",
   "mimetype": "text/x-python",
   "name": "python",
   "nbconvert_exporter": "python",
   "pygments_lexer": "ipython3",
   "version": "3.9.7"
  }
 },
 "nbformat": 4,
 "nbformat_minor": 2
}
